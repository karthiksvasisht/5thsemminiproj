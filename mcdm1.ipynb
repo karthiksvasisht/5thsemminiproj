{
 "cells": [
  {
   "cell_type": "code",
   "execution_count": 1,
   "metadata": {},
   "outputs": [],
   "source": [
    "import numpy as np\n",
    "import pandas as pd\n",
    "import matplotlib.pyplot as plt"
   ]
  },
  {
   "cell_type": "code",
   "execution_count": 15,
   "metadata": {},
   "outputs": [
    {
     "name": "stdout",
     "output_type": "stream",
     "text": [
      "  alternatives\n",
      "0   oneplus 8T\n",
      "1  samsung m51\n",
      "2  xiaomi mi10\n",
      "3    iphone 11\n"
     ]
    }
   ],
   "source": [
    "t1 = pd.read_excel (r'C:\\Users\\Karthik S V\\Desktop\\MCDM MINIPROJECT\\mcdm1.xlsx')\n",
    "print (t1)"
   ]
  },
  {
   "cell_type": "code",
   "execution_count": 6,
   "metadata": {},
   "outputs": [
    {
     "data": {
      "text/plain": [
       "(4, 1)"
      ]
     },
     "execution_count": 6,
     "metadata": {},
     "output_type": "execute_result"
    }
   ],
   "source": [
    "t1.shape\n"
   ]
  },
  {
   "cell_type": "code",
   "execution_count": 32,
   "metadata": {},
   "outputs": [],
   "source": [
    "#add columns\n",
    "t1['design']='x'\n",
    "t1['display']='x'\n",
    "t1['software']='x'\n",
    "t1['performance']='x'\n",
    "t1['battery life']='x'\n",
    "t1['camera']='x'\n"
   ]
  },
  {
   "cell_type": "code",
   "execution_count": 35,
   "metadata": {},
   "outputs": [
    {
     "data": {
      "text/html": [
       "<div>\n",
       "<style scoped>\n",
       "    .dataframe tbody tr th:only-of-type {\n",
       "        vertical-align: middle;\n",
       "    }\n",
       "\n",
       "    .dataframe tbody tr th {\n",
       "        vertical-align: top;\n",
       "    }\n",
       "\n",
       "    .dataframe thead th {\n",
       "        text-align: right;\n",
       "    }\n",
       "</style>\n",
       "<table border=\"1\" class=\"dataframe\">\n",
       "  <thead>\n",
       "    <tr style=\"text-align: right;\">\n",
       "      <th></th>\n",
       "      <th>alternatives</th>\n",
       "      <th>design</th>\n",
       "      <th>display</th>\n",
       "      <th>software</th>\n",
       "      <th>performance</th>\n",
       "      <th>battery life</th>\n",
       "      <th>camera</th>\n",
       "      <th>value for money</th>\n",
       "    </tr>\n",
       "  </thead>\n",
       "  <tbody>\n",
       "    <tr>\n",
       "      <td>0</td>\n",
       "      <td>oneplus 8T</td>\n",
       "      <td>x</td>\n",
       "      <td>x</td>\n",
       "      <td>x</td>\n",
       "      <td>x</td>\n",
       "      <td>x</td>\n",
       "      <td>x</td>\n",
       "      <td>x</td>\n",
       "    </tr>\n",
       "    <tr>\n",
       "      <td>1</td>\n",
       "      <td>samsung m51</td>\n",
       "      <td>x</td>\n",
       "      <td>x</td>\n",
       "      <td>x</td>\n",
       "      <td>x</td>\n",
       "      <td>x</td>\n",
       "      <td>x</td>\n",
       "      <td>x</td>\n",
       "    </tr>\n",
       "    <tr>\n",
       "      <td>2</td>\n",
       "      <td>xiaomi mi10</td>\n",
       "      <td>x</td>\n",
       "      <td>x</td>\n",
       "      <td>x</td>\n",
       "      <td>x</td>\n",
       "      <td>x</td>\n",
       "      <td>x</td>\n",
       "      <td>x</td>\n",
       "    </tr>\n",
       "    <tr>\n",
       "      <td>3</td>\n",
       "      <td>iphone 11</td>\n",
       "      <td>x</td>\n",
       "      <td>x</td>\n",
       "      <td>x</td>\n",
       "      <td>x</td>\n",
       "      <td>x</td>\n",
       "      <td>x</td>\n",
       "      <td>x</td>\n",
       "    </tr>\n",
       "  </tbody>\n",
       "</table>\n",
       "</div>"
      ],
      "text/plain": [
       "  alternatives design display software performance battery life camera  \\\n",
       "0   oneplus 8T      x       x        x           x            x      x   \n",
       "1  samsung m51      x       x        x           x            x      x   \n",
       "2  xiaomi mi10      x       x        x           x            x      x   \n",
       "3    iphone 11      x       x        x           x            x      x   \n",
       "\n",
       "  value for money  \n",
       "0               x  \n",
       "1               x  \n",
       "2               x  \n",
       "3               x  "
      ]
     },
     "execution_count": 35,
     "metadata": {},
     "output_type": "execute_result"
    }
   ],
   "source": [
    "t1.head()"
   ]
  },
  {
   "cell_type": "code",
   "execution_count": 50,
   "metadata": {},
   "outputs": [],
   "source": [
    "#oneplus 8T\n",
    "for i in range(0,t1.shape[0]):\n",
    "    if t1['alternatives'].iloc[i]=='oneplus 8T':\n",
    "        t1['design'].iloc[i]='9'\n",
    "        t1['display'].iloc[i]='9'\n",
    "        t1['software'].iloc[i]='10'\n",
    "        t1['performance'].iloc[i]='10'\n",
    "        t1['battery life'].iloc[i]='9'\n",
    "        t1['camera'].iloc[i]='8'\n",
    "        t1['value for money'].iloc[i]='8'\n",
    "        \n",
    "        \n",
    "        "
   ]
  },
  {
   "cell_type": "code",
   "execution_count": 73,
   "metadata": {},
   "outputs": [
    {
     "data": {
      "text/html": [
       "<div>\n",
       "<style scoped>\n",
       "    .dataframe tbody tr th:only-of-type {\n",
       "        vertical-align: middle;\n",
       "    }\n",
       "\n",
       "    .dataframe tbody tr th {\n",
       "        vertical-align: top;\n",
       "    }\n",
       "\n",
       "    .dataframe thead th {\n",
       "        text-align: right;\n",
       "    }\n",
       "</style>\n",
       "<table border=\"1\" class=\"dataframe\">\n",
       "  <thead>\n",
       "    <tr style=\"text-align: right;\">\n",
       "      <th></th>\n",
       "      <th>alternatives</th>\n",
       "      <th>design</th>\n",
       "      <th>display</th>\n",
       "      <th>software</th>\n",
       "      <th>performance</th>\n",
       "      <th>battery life</th>\n",
       "      <th>camera</th>\n",
       "      <th>value for money</th>\n",
       "    </tr>\n",
       "  </thead>\n",
       "  <tbody>\n",
       "    <tr>\n",
       "      <td>0</td>\n",
       "      <td>oneplus 8T</td>\n",
       "      <td>9</td>\n",
       "      <td>9</td>\n",
       "      <td>10</td>\n",
       "      <td>10</td>\n",
       "      <td>9</td>\n",
       "      <td>8</td>\n",
       "      <td>8</td>\n",
       "    </tr>\n",
       "    <tr>\n",
       "      <td>1</td>\n",
       "      <td>samsung m51</td>\n",
       "      <td>8</td>\n",
       "      <td>8</td>\n",
       "      <td>9</td>\n",
       "      <td>8</td>\n",
       "      <td>10</td>\n",
       "      <td>8</td>\n",
       "      <td>8</td>\n",
       "    </tr>\n",
       "    <tr>\n",
       "      <td>2</td>\n",
       "      <td>xiaomi mi10</td>\n",
       "      <td>9</td>\n",
       "      <td>9</td>\n",
       "      <td>8</td>\n",
       "      <td>9</td>\n",
       "      <td>9</td>\n",
       "      <td>8</td>\n",
       "      <td>8</td>\n",
       "    </tr>\n",
       "    <tr>\n",
       "      <td>3</td>\n",
       "      <td>iphone 11</td>\n",
       "      <td>8</td>\n",
       "      <td>8</td>\n",
       "      <td>9</td>\n",
       "      <td>10</td>\n",
       "      <td>9</td>\n",
       "      <td>9</td>\n",
       "      <td>9</td>\n",
       "    </tr>\n",
       "  </tbody>\n",
       "</table>\n",
       "</div>"
      ],
      "text/plain": [
       "  alternatives design display software performance battery life camera  \\\n",
       "0   oneplus 8T      9       9       10          10            9      8   \n",
       "1  samsung m51      8       8        9           8           10      8   \n",
       "2  xiaomi mi10      9       9        8           9            9      8   \n",
       "3    iphone 11      8       8        9          10            9      9   \n",
       "\n",
       "  value for money  \n",
       "0               8  \n",
       "1               8  \n",
       "2               8  \n",
       "3               9  "
      ]
     },
     "execution_count": 73,
     "metadata": {},
     "output_type": "execute_result"
    }
   ],
   "source": [
    "t1.head()"
   ]
  },
  {
   "cell_type": "code",
   "execution_count": 45,
   "metadata": {},
   "outputs": [],
   "source": [
    "#samsung m51\n",
    "for i in range(0,t1.shape[0]):\n",
    "    if t1['alternatives'].iloc[i]=='samsung m51':\n",
    "        t1['design'].iloc[i]='8'\n",
    "        t1['display'].iloc[i]='8'\n",
    "        t1['software'].iloc[i]='9'\n",
    "        t1['performance'].iloc[i]='8'\n",
    "        t1['battery life'].iloc[i]='10'\n",
    "        t1['camera'].iloc[i]='8'\n",
    "        t1['value for money'].iloc[i]='8'"
   ]
  },
  {
   "cell_type": "code",
   "execution_count": 44,
   "metadata": {},
   "outputs": [],
   "source": [
    "#xiaomi mi10\n",
    "for i in range(0,t1.shape[0]):\n",
    "    if t1['alternatives'].iloc[i]=='xiaomi mi10':\n",
    "        t1['design'].iloc[i]='9'\n",
    "        t1['display'].iloc[i]='9'\n",
    "        t1['software'].iloc[i]='8'\n",
    "        t1['performance'].iloc[i]='9'\n",
    "        t1['battery life'].iloc[i]='9'\n",
    "        t1['camera'].iloc[i]='8'\n",
    "        t1['value for money'].iloc[i]='8'"
   ]
  },
  {
   "cell_type": "code",
   "execution_count": 43,
   "metadata": {},
   "outputs": [],
   "source": [
    "#iphone 11\n",
    "for i in range(0,t1.shape[0]):\n",
    "    if t1['alternatives'].iloc[i]=='iphone 11':\n",
    "        t1['design'].iloc[i]='8'\n",
    "        t1['display'].iloc[i]='8'\n",
    "        t1['software'].iloc[i]='9'\n",
    "        t1['performance'].iloc[i]='10'\n",
    "        t1['battery life'].iloc[i]='9'\n",
    "        t1['camera'].iloc[i]='9'\n",
    "        t1['value for money'].iloc[i]='9'"
   ]
  },
  {
   "cell_type": "code",
   "execution_count": 74,
   "metadata": {},
   "outputs": [
    {
     "data": {
      "text/html": [
       "<div>\n",
       "<style scoped>\n",
       "    .dataframe tbody tr th:only-of-type {\n",
       "        vertical-align: middle;\n",
       "    }\n",
       "\n",
       "    .dataframe tbody tr th {\n",
       "        vertical-align: top;\n",
       "    }\n",
       "\n",
       "    .dataframe thead th {\n",
       "        text-align: right;\n",
       "    }\n",
       "</style>\n",
       "<table border=\"1\" class=\"dataframe\">\n",
       "  <thead>\n",
       "    <tr style=\"text-align: right;\">\n",
       "      <th></th>\n",
       "      <th>alternatives</th>\n",
       "      <th>design</th>\n",
       "      <th>display</th>\n",
       "      <th>software</th>\n",
       "      <th>performance</th>\n",
       "      <th>battery life</th>\n",
       "      <th>camera</th>\n",
       "      <th>value for money</th>\n",
       "    </tr>\n",
       "  </thead>\n",
       "  <tbody>\n",
       "    <tr>\n",
       "      <td>0</td>\n",
       "      <td>oneplus 8T</td>\n",
       "      <td>9</td>\n",
       "      <td>9</td>\n",
       "      <td>10</td>\n",
       "      <td>10</td>\n",
       "      <td>9</td>\n",
       "      <td>8</td>\n",
       "      <td>8</td>\n",
       "    </tr>\n",
       "    <tr>\n",
       "      <td>1</td>\n",
       "      <td>samsung m51</td>\n",
       "      <td>8</td>\n",
       "      <td>8</td>\n",
       "      <td>9</td>\n",
       "      <td>8</td>\n",
       "      <td>10</td>\n",
       "      <td>8</td>\n",
       "      <td>8</td>\n",
       "    </tr>\n",
       "    <tr>\n",
       "      <td>2</td>\n",
       "      <td>xiaomi mi10</td>\n",
       "      <td>9</td>\n",
       "      <td>9</td>\n",
       "      <td>8</td>\n",
       "      <td>9</td>\n",
       "      <td>9</td>\n",
       "      <td>8</td>\n",
       "      <td>8</td>\n",
       "    </tr>\n",
       "    <tr>\n",
       "      <td>3</td>\n",
       "      <td>iphone 11</td>\n",
       "      <td>8</td>\n",
       "      <td>8</td>\n",
       "      <td>9</td>\n",
       "      <td>10</td>\n",
       "      <td>9</td>\n",
       "      <td>9</td>\n",
       "      <td>9</td>\n",
       "    </tr>\n",
       "  </tbody>\n",
       "</table>\n",
       "</div>"
      ],
      "text/plain": [
       "  alternatives design display software performance battery life camera  \\\n",
       "0   oneplus 8T      9       9       10          10            9      8   \n",
       "1  samsung m51      8       8        9           8           10      8   \n",
       "2  xiaomi mi10      9       9        8           9            9      8   \n",
       "3    iphone 11      8       8        9          10            9      9   \n",
       "\n",
       "  value for money  \n",
       "0               8  \n",
       "1               8  \n",
       "2               8  \n",
       "3               9  "
      ]
     },
     "execution_count": 74,
     "metadata": {},
     "output_type": "execute_result"
    }
   ],
   "source": [
    "t1.head()"
   ]
  },
  {
   "cell_type": "code",
   "execution_count": 54,
   "metadata": {},
   "outputs": [
    {
     "name": "stdout",
     "output_type": "stream",
     "text": [
      "  alternatives  design  display  software  performance  battery life  camera  \\\n",
      "0   oneplus 8T     NaN      NaN       NaN          NaN           NaN     NaN   \n",
      "1  samsung m51     NaN      NaN       NaN          NaN           NaN     NaN   \n",
      "2  xiaomi mi10     NaN      NaN       NaN          NaN           NaN     NaN   \n",
      "3    iphone 11     NaN      NaN       NaN          NaN           NaN     NaN   \n",
      "\n",
      "   value for money  \n",
      "0              NaN  \n",
      "1              NaN  \n",
      "2              NaN  \n",
      "3              NaN  \n"
     ]
    }
   ],
   "source": [
    "#creating empty normalized decision matrix\n",
    "t2 = pd.read_excel (r'C:\\Users\\Karthik S V\\Desktop\\MCDM MINIPROJECT\\normcdm1.xlsx')\n",
    "print (t2)"
   ]
  },
  {
   "cell_type": "code",
   "execution_count": 79,
   "metadata": {},
   "outputs": [
    {
     "name": "stdout",
     "output_type": "stream",
     "text": [
      "  alternatives design display software performance battery life camera  \\\n",
      "0   oneplus 8T      9       9       10          10            9      8   \n",
      "1  samsung m51      8       8        9           8           10      8   \n",
      "2  xiaomi mi10      9       9        8           9            9      8   \n",
      "3    iphone 11      8       8        9          10            9      9   \n",
      "\n",
      "  value for money  \n",
      "0               8  \n",
      "1               8  \n",
      "2               8  \n",
      "3               9  \n"
     ]
    }
   ],
   "source": [
    "print(t1)"
   ]
  },
  {
   "cell_type": "code",
   "execution_count": 80,
   "metadata": {},
   "outputs": [
    {
     "name": "stdout",
     "output_type": "stream",
     "text": [
      "alternatives       xiaomi mi10\n",
      "design                       9\n",
      "display                      9\n",
      "software                     9\n",
      "performance                  9\n",
      "battery life                 9\n",
      "camera                       9\n",
      "value for money              9\n",
      "dtype: object\n"
     ]
    }
   ],
   "source": [
    "# find the maximum of each column \n",
    "  \n",
    "print(t1.max())"
   ]
  },
  {
   "cell_type": "code",
   "execution_count": 94,
   "metadata": {},
   "outputs": [
    {
     "name": "stdout",
     "output_type": "stream",
     "text": [
      "9\n",
      "9\n",
      "9\n",
      "9\n",
      "9\n",
      "9\n",
      "9\n"
     ]
    }
   ],
   "source": [
    "#finding formula\n",
    "maxClm1 = t1.max()['design']\n",
    "print(maxClm1)\n",
    "maxClm2 = t1.max()['display']\n",
    "print(maxClm2)\n",
    "maxClm3 = t1.max()['software']\n",
    "print(maxClm3)\n",
    "maxClm4 = t1.max()['performance']\n",
    "print(maxClm4)\n",
    "maxClm5 = t1.max()['battery life']\n",
    "print(maxClm5)\n",
    "maxClm6 = t1.max()['camera']\n",
    "print(maxClm6)\n",
    "maxClm7 = t1.max()['value for money']\n",
    "print(maxClm7)"
   ]
  },
  {
   "cell_type": "code",
   "execution_count": 81,
   "metadata": {},
   "outputs": [],
   "source": [
    "#updating normalized values\n",
    "#oneplus 8T\n",
    "for i in range(0,t1.shape[0]):\n",
    "    if t2['alternatives'].iloc[i]=='oneplus 8T':\n",
    "        t2['design'].iloc[i]= 9/9\n",
    "        t2['display'].iloc[i]=9/9\n",
    "        t2['software'].iloc[i]=10/10\n",
    "        t2['performance'].iloc[i]=10/10\n",
    "        t2['battery life'].iloc[i]=9/10\n",
    "        t2['camera'].iloc[i]=8/9\n",
    "        t2['value for money'].iloc[i]=8/9\n"
   ]
  },
  {
   "cell_type": "code",
   "execution_count": 82,
   "metadata": {},
   "outputs": [
    {
     "name": "stdout",
     "output_type": "stream",
     "text": [
      "  alternatives design display software performance battery life    camera  \\\n",
      "0   oneplus 8T      1       1        1           1          0.9  0.888889   \n",
      "1  samsung m51    NaN     NaN      NaN         NaN          NaN       NaN   \n",
      "2  xiaomi mi10    NaN     NaN      NaN         NaN          NaN       NaN   \n",
      "3    iphone 11    NaN     NaN      NaN         NaN          NaN       NaN   \n",
      "\n",
      "  value for money  \n",
      "0        0.888889  \n",
      "1             NaN  \n",
      "2             NaN  \n",
      "3             NaN  \n"
     ]
    }
   ],
   "source": [
    "print(t2)"
   ]
  },
  {
   "cell_type": "code",
   "execution_count": 86,
   "metadata": {},
   "outputs": [],
   "source": [
    "#samsung m51\n",
    "for i in range(0,t1.shape[0]):\n",
    "    if t2['alternatives'].iloc[i]=='samsung m51':\n",
    "        t2['design'].iloc[i]= 8/9\n",
    "        t2['display'].iloc[i]= 8/9\n",
    "        t2['software'].iloc[i]= 9/10\n",
    "        t2['performance'].iloc[i]= 8/10\n",
    "        t2['battery life'].iloc[i]= 10/10\n",
    "        t2['camera'].iloc[i]= 8/9\n",
    "        t2['value for money'].iloc[i]= 8/9\n"
   ]
  },
  {
   "cell_type": "code",
   "execution_count": 87,
   "metadata": {},
   "outputs": [
    {
     "name": "stdout",
     "output_type": "stream",
     "text": [
      "  alternatives    design   display software performance battery life  \\\n",
      "0   oneplus 8T         1         1        1           1          0.9   \n",
      "1  samsung m51  0.888889  0.888889      0.9         0.8            1   \n",
      "2  xiaomi mi10       NaN       NaN      NaN         NaN          NaN   \n",
      "3    iphone 11       NaN       NaN      NaN         NaN          NaN   \n",
      "\n",
      "     camera value for money  \n",
      "0  0.888889        0.888889  \n",
      "1  0.888889        0.888889  \n",
      "2       NaN             NaN  \n",
      "3       NaN             NaN  \n"
     ]
    }
   ],
   "source": [
    "print(t2)"
   ]
  },
  {
   "cell_type": "code",
   "execution_count": 91,
   "metadata": {},
   "outputs": [],
   "source": [
    "#xiaomi mi10\n",
    "for i in range(0,t1.shape[0]):\n",
    "    if t2['alternatives'].iloc[i]=='xiaomi mi10':\n",
    "        t2['design'].iloc[i]= 9/9\n",
    "        t2['display'].iloc[i]= 9/9\n",
    "        t2['software'].iloc[i]= 8/10\n",
    "        t2['performance'].iloc[i]= 9/10\n",
    "        t2['battery life'].iloc[i]= 9/10\n",
    "        t2['camera'].iloc[i]= 8/9\n",
    "        t2['value for money'].iloc[i]= 8/9"
   ]
  },
  {
   "cell_type": "code",
   "execution_count": 89,
   "metadata": {},
   "outputs": [
    {
     "name": "stdout",
     "output_type": "stream",
     "text": [
      "  alternatives    design   display software performance battery life  \\\n",
      "0   oneplus 8T         1         1        1           1          0.9   \n",
      "1  samsung m51  0.888889  0.888889      0.9         0.8            1   \n",
      "2  xiaomi mi10         1         1      0.8         0.9          0.9   \n",
      "3    iphone 11       NaN       NaN      NaN         NaN          NaN   \n",
      "\n",
      "     camera value for money  \n",
      "0  0.888889        0.888889  \n",
      "1  0.888889        0.888889  \n",
      "2  0.888889        0.888889  \n",
      "3       NaN             NaN  \n"
     ]
    }
   ],
   "source": [
    "print(t2)"
   ]
  },
  {
   "cell_type": "code",
   "execution_count": 92,
   "metadata": {},
   "outputs": [],
   "source": [
    "#iphone 11\n",
    "for i in range(0,t1.shape[0]):\n",
    "    if t2['alternatives'].iloc[i]=='iphone 11':\n",
    "        t2['design'].iloc[i]= 8/9\n",
    "        t2['display'].iloc[i]= 8/9\n",
    "        t2['software'].iloc[i]= 9/10\n",
    "        t2['performance'].iloc[i]= 10/10\n",
    "        t2['battery life'].iloc[i]= 9/10\n",
    "        t2['camera'].iloc[i]= 9/9\n",
    "        t2['value for money'].iloc[i]= 9/9"
   ]
  },
  {
   "cell_type": "code",
   "execution_count": 93,
   "metadata": {},
   "outputs": [
    {
     "name": "stdout",
     "output_type": "stream",
     "text": [
      "  alternatives    design   display software performance battery life  \\\n",
      "0   oneplus 8T         1         1        1           1          0.9   \n",
      "1  samsung m51  0.888889  0.888889      0.9         0.8            1   \n",
      "2  xiaomi mi10         1         1      0.8         0.9          0.9   \n",
      "3    iphone 11  0.888889  0.888889      0.9           1          0.9   \n",
      "\n",
      "     camera value for money  \n",
      "0  0.888889        0.888889  \n",
      "1  0.888889        0.888889  \n",
      "2  0.888889        0.888889  \n",
      "3         1               1  \n"
     ]
    }
   ],
   "source": [
    "print(t2)"
   ]
  },
  {
   "cell_type": "code",
   "execution_count": 95,
   "metadata": {},
   "outputs": [
    {
     "name": "stdout",
     "output_type": "stream",
     "text": [
      "<bound method NDFrame.head of   alternatives    design   display software performance battery life  \\\n",
      "0   oneplus 8T         1         1        1           1          0.9   \n",
      "1  samsung m51  0.888889  0.888889      0.9         0.8            1   \n",
      "2  xiaomi mi10         1         1      0.8         0.9          0.9   \n",
      "3    iphone 11  0.888889  0.888889      0.9           1          0.9   \n",
      "\n",
      "     camera value for money  \n",
      "0  0.888889        0.888889  \n",
      "1  0.888889        0.888889  \n",
      "2  0.888889        0.888889  \n",
      "3         1               1  >\n"
     ]
    }
   ],
   "source": [
    "print(t2.head)"
   ]
  },
  {
   "cell_type": "code",
   "execution_count": 96,
   "metadata": {},
   "outputs": [
    {
     "data": {
      "text/html": [
       "<div>\n",
       "<style scoped>\n",
       "    .dataframe tbody tr th:only-of-type {\n",
       "        vertical-align: middle;\n",
       "    }\n",
       "\n",
       "    .dataframe tbody tr th {\n",
       "        vertical-align: top;\n",
       "    }\n",
       "\n",
       "    .dataframe thead th {\n",
       "        text-align: right;\n",
       "    }\n",
       "</style>\n",
       "<table border=\"1\" class=\"dataframe\">\n",
       "  <thead>\n",
       "    <tr style=\"text-align: right;\">\n",
       "      <th></th>\n",
       "      <th>alternatives</th>\n",
       "      <th>design</th>\n",
       "      <th>display</th>\n",
       "      <th>software</th>\n",
       "      <th>performance</th>\n",
       "      <th>battery life</th>\n",
       "      <th>camera</th>\n",
       "      <th>value for money</th>\n",
       "    </tr>\n",
       "  </thead>\n",
       "  <tbody>\n",
       "    <tr>\n",
       "      <td>0</td>\n",
       "      <td>oneplus 8T</td>\n",
       "      <td>1</td>\n",
       "      <td>1</td>\n",
       "      <td>1</td>\n",
       "      <td>1</td>\n",
       "      <td>0.9</td>\n",
       "      <td>0.888889</td>\n",
       "      <td>0.888889</td>\n",
       "    </tr>\n",
       "    <tr>\n",
       "      <td>1</td>\n",
       "      <td>samsung m51</td>\n",
       "      <td>0.888889</td>\n",
       "      <td>0.888889</td>\n",
       "      <td>0.9</td>\n",
       "      <td>0.8</td>\n",
       "      <td>1</td>\n",
       "      <td>0.888889</td>\n",
       "      <td>0.888889</td>\n",
       "    </tr>\n",
       "    <tr>\n",
       "      <td>2</td>\n",
       "      <td>xiaomi mi10</td>\n",
       "      <td>1</td>\n",
       "      <td>1</td>\n",
       "      <td>0.8</td>\n",
       "      <td>0.9</td>\n",
       "      <td>0.9</td>\n",
       "      <td>0.888889</td>\n",
       "      <td>0.888889</td>\n",
       "    </tr>\n",
       "    <tr>\n",
       "      <td>3</td>\n",
       "      <td>iphone 11</td>\n",
       "      <td>0.888889</td>\n",
       "      <td>0.888889</td>\n",
       "      <td>0.9</td>\n",
       "      <td>1</td>\n",
       "      <td>0.9</td>\n",
       "      <td>1</td>\n",
       "      <td>1</td>\n",
       "    </tr>\n",
       "  </tbody>\n",
       "</table>\n",
       "</div>"
      ],
      "text/plain": [
       "  alternatives    design   display software performance battery life  \\\n",
       "0   oneplus 8T         1         1        1           1          0.9   \n",
       "1  samsung m51  0.888889  0.888889      0.9         0.8            1   \n",
       "2  xiaomi mi10         1         1      0.8         0.9          0.9   \n",
       "3    iphone 11  0.888889  0.888889      0.9           1          0.9   \n",
       "\n",
       "     camera value for money  \n",
       "0  0.888889        0.888889  \n",
       "1  0.888889        0.888889  \n",
       "2  0.888889        0.888889  \n",
       "3         1               1  "
      ]
     },
     "execution_count": 96,
     "metadata": {},
     "output_type": "execute_result"
    }
   ],
   "source": [
    "t2.head()"
   ]
  },
  {
   "cell_type": "code",
   "execution_count": null,
   "metadata": {},
   "outputs": [],
   "source": []
  }
 ],
 "metadata": {
  "kernelspec": {
   "display_name": "Python 3",
   "language": "python",
   "name": "python3"
  },
  "language_info": {
   "codemirror_mode": {
    "name": "ipython",
    "version": 3
   },
   "file_extension": ".py",
   "mimetype": "text/x-python",
   "name": "python",
   "nbconvert_exporter": "python",
   "pygments_lexer": "ipython3",
   "version": "3.7.4"
  }
 },
 "nbformat": 4,
 "nbformat_minor": 2
}
